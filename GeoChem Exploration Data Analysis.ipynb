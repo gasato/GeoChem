{
 "cells": [
  {
   "cell_type": "markdown",
   "id": "5af66e33",
   "metadata": {},
   "source": [
    "# GeoChem Exploration Data Analysis "
   ]
  },
  {
   "cell_type": "code",
   "execution_count": 5,
   "id": "57662ae1",
   "metadata": {
    "tags": [
     "hide_code"
    ]
   },
   "outputs": [],
   "source": [
    "# Python modules\n",
    "import csv\n",
    "import numpy as np\n",
    "import matplotlib.pyplot as plt\n",
    "import pandas as pd\n",
    "import scipy.stats as stats\n",
    "import seaborn as sns\n",
    "\n",
    "# normality Test\n",
    "from statsmodels.graphics.gofplots import qqplot\n",
    "from scipy.stats import shapiro, pearsonr\n",
    "\n",
    "from IPython.display import display\n",
    "from ipywidgets import Checkbox, Dropdown \n",
    "import pandas as pd\n",
    "\n",
    "from termcolor import colored, cprint\n",
    "\n",
    "# IPython Widgets\n",
    "from ipyfilechooser import FileChooser"
   ]
  },
  {
   "cell_type": "markdown",
   "id": "99d2678c",
   "metadata": {},
   "source": [
    "## CSV Format\n",
    "\n",
    "Delimiter must be ',', quote character must be \"\" and first column must containt field names"
   ]
  },
  {
   "cell_type": "code",
   "execution_count": 2,
   "id": "dcc9f81d",
   "metadata": {
    "tags": [
     "hide_code"
    ]
   },
   "outputs": [
    {
     "data": {
      "application/vnd.jupyter.widget-view+json": {
       "model_id": "a2d3297dde61434a9bc32032ae55aee1",
       "version_major": 2,
       "version_minor": 0
      },
      "text/plain": [
       "FileChooser(path='D:\\Users\\gasato\\anacondaProjects\\GeoChem', filename='RNGGeochem.csv', title='<b>Select csv g…"
      ]
     },
     "metadata": {},
     "output_type": "display_data"
    }
   ],
   "source": [
    "fc = FileChooser('.')\n",
    "fc.title ='<b>Select csv geoChem table</b>'\n",
    "fc.filter_pattern='*.csv'\n",
    "fc.reset(path='.', filename= \"RNGGeochem.csv\")\n",
    "\n",
    "display(fc)\n",
    "\n"
   ]
  },
  {
   "cell_type": "code",
   "execution_count": 3,
   "id": "43f81af9",
   "metadata": {
    "tags": [
     "hide_code"
    ]
   },
   "outputs": [
    {
     "name": "stdout",
     "output_type": "stream",
     "text": [
      "RNGGeochem.csv\n"
     ]
    }
   ],
   "source": [
    "print(fc.selected_filename)"
   ]
  },
  {
   "cell_type": "code",
   "execution_count": 9,
   "id": "570dd670",
   "metadata": {},
   "outputs": [
    {
     "data": {
      "application/vnd.jupyter.widget-view+json": {
       "model_id": "25f5235f1f734607a683231e3dcd191a",
       "version_major": 2,
       "version_minor": 0
      },
      "text/plain": [
       "Dropdown(description='Column:', options=('OBJECTID', 'NUMERO_MUE', 'TIPO_MUEST', 'SYMBOL', 'Ag_ppm', 'Al_porci…"
      ]
     },
     "metadata": {},
     "output_type": "display_data"
    },
    {
     "data": {
      "application/vnd.jupyter.widget-view+json": {
       "model_id": "ff088a0fd0e74f0a8f653d76fb5431d0",
       "version_major": 2,
       "version_minor": 0
      },
      "text/plain": [
       "Checkbox(value=False, description='Log10 (y/n)')"
      ]
     },
     "metadata": {},
     "output_type": "display_data"
    }
   ],
   "source": [
    "csvfile = open(fc.selected_filename)\n",
    "csvReader = csv.DictReader(csvfile, delimiter=',', quotechar='\"')\n",
    "data = []\n",
    "headers = csvReader.fieldnames\n",
    "    \n",
    "    #print(headers)\n",
    "    \n",
    "fieldNameMenu = Dropdown(options=headers, description='Column:')\n",
    "\n",
    "box = Checkbox(False, description='Log10 (y/n)')\n",
    "\n",
    "display(fieldNameMenu, box)\n",
    "    \n"
   ]
  },
  {
   "cell_type": "code",
   "execution_count": 12,
   "id": "1e394d82",
   "metadata": {
    "tags": [
     "hide_code"
    ]
   },
   "outputs": [
    {
     "name": "stdout",
     "output_type": "stream",
     "text": [
      "Au_ppb True\n"
     ]
    }
   ],
   "source": [
    "# Check variables\n",
    "fieldName=fieldNameMenu.value\n",
    "print(fieldName, box.value)"
   ]
  },
  {
   "cell_type": "code",
   "execution_count": 13,
   "id": "338e3db5",
   "metadata": {
    "tags": [
     "hide_code"
    ]
   },
   "outputs": [],
   "source": [
    "for row in csvReader:\n",
    "    #print(', '.join(row))\n",
    "    data.append(row[fieldName])\n",
    "    #print(row) #It not be used in order to avoid program crash"
   ]
  },
  {
   "cell_type": "code",
   "execution_count": 15,
   "id": "d153bbcf",
   "metadata": {
    "tags": [
     "hide_code"
    ]
   },
   "outputs": [
    {
     "data": {
      "text/plain": [
       "list"
      ]
     },
     "execution_count": 15,
     "metadata": {},
     "output_type": "execute_result"
    }
   ],
   "source": [
    "df = pd.Dataframe()"
   ]
  },
  {
   "cell_type": "code",
   "execution_count": 35,
   "id": "a52b7b61",
   "metadata": {
    "tags": [
     "hide_code"
    ]
   },
   "outputs": [],
   "source": [
    "dataFiltered = []\n",
    "for elem in np.array(data).astype(float):\n",
    "    if elem > 0:\n",
    "        dataFiltered.append(elem)\n",
    "        \n",
    "dataLog10 = np.log10(dataFiltered)"
   ]
  },
  {
   "cell_type": "code",
   "execution_count": 36,
   "id": "049c380a",
   "metadata": {
    "tags": [
     "hide_code"
    ]
   },
   "outputs": [
    {
     "data": {
      "text/html": [
       "<div>\n",
       "<style scoped>\n",
       "    .dataframe tbody tr th:only-of-type {\n",
       "        vertical-align: middle;\n",
       "    }\n",
       "\n",
       "    .dataframe tbody tr th {\n",
       "        vertical-align: top;\n",
       "    }\n",
       "\n",
       "    .dataframe thead th {\n",
       "        text-align: right;\n",
       "    }\n",
       "</style>\n",
       "<table border=\"1\" class=\"dataframe\">\n",
       "  <thead>\n",
       "    <tr style=\"text-align: right;\">\n",
       "      <th></th>\n",
       "      <th>Data population</th>\n",
       "      <th>Min Value</th>\n",
       "      <th>Max Value</th>\n",
       "      <th>Mean Value</th>\n",
       "      <th>Standard Desviation</th>\n",
       "      <th>Percentil 10%</th>\n",
       "      <th>Percentil 50%</th>\n",
       "      <th>Percentil 90%</th>\n",
       "    </tr>\n",
       "  </thead>\n",
       "  <tbody>\n",
       "    <tr>\n",
       "      <th>0</th>\n",
       "      <td>3153</td>\n",
       "      <td>0.792392</td>\n",
       "      <td>2.214844</td>\n",
       "      <td>1.466246</td>\n",
       "      <td>0.166195</td>\n",
       "      <td>1.232996</td>\n",
       "      <td>1.494155</td>\n",
       "      <td>1.634276</td>\n",
       "    </tr>\n",
       "  </tbody>\n",
       "</table>\n",
       "</div>"
      ],
      "text/plain": [
       "   Data population  Min Value  Max Value  Mean Value  Standard Desviation  \\\n",
       "0             3153   0.792392   2.214844    1.466246             0.166195   \n",
       "\n",
       "   Percentil 10%  Percentil 50%  Percentil 90%  \n",
       "0       1.232996       1.494155       1.634276  "
      ]
     },
     "metadata": {},
     "output_type": "display_data"
    }
   ],
   "source": [
    "statsDict={'Data population': [dataLog10.size],\n",
    "          'Min Value':[dataLog10.min()],\n",
    "          'Max Value':[dataLog10.max()],\n",
    "          'Mean Value':[dataLog10.mean()],\n",
    "          'Standard Desviation':[dataLog10.std()],\n",
    "          'Percentil 10%':[np.quantile(dataLog10, .10)],\n",
    "          'Percentil 50%':[np.quantile(dataLog10, .50)],\n",
    "          'Percentil 90%':[np.quantile(dataLog10, .90)]\n",
    "}\n",
    "\n",
    "df = pd.DataFrame(statsDict)\n",
    "\n",
    "display(df)\n",
    "\n",
    "\n"
   ]
  },
  {
   "cell_type": "code",
   "execution_count": 37,
   "id": "cbeaafef",
   "metadata": {},
   "outputs": [
    {
     "data": {
      "image/png": "[encoded data removed]",
      "text/plain": [
       "<Figure size 640x480 with 1 Axes>"
      ]
     },
     "metadata": {},
     "output_type": "display_data"
    }
   ],
   "source": [
    "# Plot data\n",
    "\n",
    "#fig, ax = plt.subplots(figsize=(16,8))\n",
    "\n",
    "plt.hist(dataLog10, bins=30, edgecolor='black')\n",
    "plt.show()\n",
    "\n"
   ]
  },
  {
   "cell_type": "code",
   "execution_count": 38,
   "id": "33b0a172",
   "metadata": {},
   "outputs": [
    {
     "data": {
      "text/plain": [
       "<AxesSubplot:ylabel='Density'>"
      ]
     },
     "execution_count": 38,
     "metadata": {},
     "output_type": "execute_result"
    },
    {
     "data": {
      "image/png": "[encoded data removed]",
      "text/plain": [
       "<Figure size 640x480 with 1 Axes>"
      ]
     },
     "metadata": {},
     "output_type": "display_data"
    }
   ],
   "source": [
    "#Density plot\n",
    "\n",
    "sns.kdeplot(dataLog10)\n"
   ]
  },
  {
   "cell_type": "code",
   "execution_count": 39,
   "id": "f3f53398",
   "metadata": {},
   "outputs": [
    {
     "data": {
      "text/plain": [
       "<AxesSubplot:>"
      ]
     },
     "execution_count": 39,
     "metadata": {},
     "output_type": "execute_result"
    },
    {
     "data": {
      "image/png": "[encoded data removed]",
      "text/plain": [
       "<Figure size 640x480 with 1 Axes>"
      ]
     },
     "metadata": {},
     "output_type": "display_data"
    }
   ],
   "source": [
    "\n",
    "\n",
    "sns.boxplot(data=dataLog10, orient='H')"
   ]
  },
  {
   "cell_type": "code",
   "execution_count": 40,
   "id": "204c0b71",
   "metadata": {},
   "outputs": [
    {
     "data": {
      "image/png": "[encoded data removed]",
      "text/plain": [
       "<Figure size 640x480 with 1 Axes>"
      ]
     },
     "metadata": {},
     "output_type": "display_data"
    }
   ],
   "source": [
    "qqplot(dataLog10, line='s')\n",
    "plt.show()"
   ]
  },
  {
   "cell_type": "code",
   "execution_count": 41,
   "id": "d123d672",
   "metadata": {},
   "outputs": [
    {
     "name": "stdout",
     "output_type": "stream",
     "text": [
      "Estadístico=0.953, p=0.000\n",
      "\u001b[1m\u001b[31mSegún Shapiro-Wilk la muestra NO parece tener distribución Gaussiana (se desecha la Hipótesis Nula)\u001b[0m\n"
     ]
    }
   ],
   "source": [
    "# normality test\n",
    "\n",
    "\n",
    "'''\n",
    "Statistic: A quantity calculated by the test that can be interpreted in the context of the test via comparing \n",
    "it to critical values from the distribution of the test statistic.\n",
    "p-value: Used to interpret the test, in this case whether the sample was drawn from a Gaussian distribution.\n",
    "\n",
    "'''\n",
    "\n",
    "stat, p = shapiro(dataLog10)\n",
    "\n",
    "print('Estadístico=%.3f, p=%.3f' % (stat, p))\n",
    "\n",
    "# interpret\n",
    "\n",
    "alpha = 0.05\n",
    "\n",
    "if p > alpha:\n",
    "    cprint('Según Shapiro-Wilks la muestra parece tener distribución Gaussiana (NO se desecha la Hipótesis Nula)','red',  attrs=['bold'])\n",
    "else:\n",
    "    cprint('Según Shapiro-Wilk la muestra NO parece tener distribución Gaussiana (se desecha la Hipótesis Nula)','red',  attrs=['bold'])\n",
    "\n",
    "\n",
    "\n"
   ]
  },
  {
   "cell_type": "code",
   "execution_count": null,
   "id": "4f254d39",
   "metadata": {},
   "outputs": [],
   "source": []
  }
 ],
 "metadata": {
  "kernelspec": {
   "display_name": "Python 3 (ipykernel)",
   "language": "python",
   "name": "python3"
  },
  "language_info": {
   "codemirror_mode": {
    "name": "ipython",
    "version": 3
   },
   "file_extension": ".py",
   "mimetype": "text/x-python",
   "name": "python",
   "nbconvert_exporter": "python",
   "pygments_lexer": "ipython3",
   "version": "3.9.12"
  }
 },
 "nbformat": 4,
 "nbformat_minor": 5
}
