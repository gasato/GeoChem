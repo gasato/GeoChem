{
 "cells": [
  {
   "cell_type": "markdown",
   "metadata": {},
   "source": [
    "<h1>Scatterplots</h1>"
   ]
  },
  {
   "cell_type": "code",
   "execution_count": 1,
   "metadata": {},
   "outputs": [
    {
     "ename": "SyntaxError",
     "evalue": "invalid syntax (4275744569.py, line 10)",
     "output_type": "error",
     "traceback": [
      "\u001b[1;36m  File \u001b[1;32m\"D:\\Users\\gasato\\AppData\\Local\\Temp\\ipykernel_14552\\4275744569.py\"\u001b[1;36m, line \u001b[1;32m10\u001b[0m\n\u001b[1;33m    Au = mydata$Au\u001b[0m\n\u001b[1;37m               ^\u001b[0m\n\u001b[1;31mSyntaxError\u001b[0m\u001b[1;31m:\u001b[0m invalid syntax\n"
     ]
    }
   ],
   "source": [
    "#Read data from pirquitas .csv\n",
    "\n",
    "library(gdata)\n",
    "\n",
    "setwd(\"D:/taller/pirquitas/Geoquimica-revisada\")\n",
    "getwd()\n",
    "\n",
    "mydata = read.csv(\"geoquimica.csv\", header=TRUE, sep = ',')\n",
    "\n",
    "Au = mydata$Au\n",
    "Ag = mydata$Ag\n",
    "Cu = mydata$Cu\n",
    "As = mydata$As\n",
    "Pb = mydata$Pb\n",
    "Zn = mydata$Zn\n",
    "Sb = mydata$Sb\n",
    "Sn = mydata$Sn\n",
    "Li = mydata$Li\n",
    "\n",
    "dim(mydata)\n",
    "\n",
    "mydata.group1 <- cbind( Au, Ag, Cu, As, Pb, Zn, Sb, Sn, Li)\n",
    "\n",
    "pairs(mydata.group1, labels=c( \"Au\", \"Ag\", \"Cu\", \"As\", \"Pb\", \"Zn\", \"Sb\", \"Sn\", \"Li\"))"
   ]
  },
  {
   "cell_type": "code",
   "execution_count": null,
   "metadata": {},
   "outputs": [],
   "source": [
    "plot(Cu, As)\n",
    "\n",
    "reg = lm(As  ~ Cu )\n",
    "abline(reg)\n",
    "summary(reg)\n",
    "cor.test(As, Cu)"
   ]
  }
 ],
 "metadata": {
  "kernelspec": {
   "display_name": "Python 3 (ipykernel)",
   "language": "python",
   "name": "python3"
  },
  "language_info": {
   "codemirror_mode": {
    "name": "ipython",
    "version": 3
   },
   "file_extension": ".py",
   "mimetype": "text/x-python",
   "name": "python",
   "nbconvert_exporter": "python",
   "pygments_lexer": "ipython3",
   "version": "3.7.1"
  }
 },
 "nbformat": 4,
 "nbformat_minor": 2
}
