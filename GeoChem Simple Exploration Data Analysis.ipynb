{
 "cells": [
  {
   "cell_type": "markdown",
   "id": "5af66e33",
   "metadata": {},
   "source": [
    "# GeoChem Exploration Data Analysis "
   ]
  },
  {
   "cell_type": "code",
   "execution_count": 334,
   "id": "57662ae1",
   "metadata": {
    "tags": [
     "hide_code"
    ]
   },
   "outputs": [],
   "source": [
    "# Python modules\n",
    "import csv\n",
    "import numpy as np\n",
    "import matplotlib.pyplot as plt\n",
    "import pandas as pd\n",
    "import scipy.stats as stats\n",
    "import seaborn as sns\n",
    "\n",
    "# normality Test\n",
    "from statsmodels.graphics.gofplots import qqplot\n",
    "from scipy.stats import shapiro, pearsonr\n",
    "\n",
    "from IPython.display import display\n",
    "from ipywidgets import Checkbox, Dropdown, FloatRangeSlider, SelectMultiple\n",
    "import pandas as pd\n",
    "\n",
    "from termcolor import colored, cprint\n",
    "\n",
    "# IPython Widgets\n",
    "from ipyfilechooser import FileChooser"
   ]
  },
  {
   "cell_type": "code",
   "execution_count": 335,
   "id": "67f231c3",
   "metadata": {},
   "outputs": [],
   "source": [
    "# Global variables\n",
    "sns.set_theme()"
   ]
  },
  {
   "cell_type": "markdown",
   "id": "99d2678c",
   "metadata": {
    "tags": [
     "hide_code"
    ]
   },
   "source": [
    "## CSV Format\n",
    "\n",
    "Delimiter must be ',', quote character must be \"\" and first column must containt field names"
   ]
  },
  {
   "cell_type": "code",
   "execution_count": 336,
   "id": "dcc9f81d",
   "metadata": {
    "tags": [
     "hide_code"
    ]
   },
   "outputs": [
    {
     "data": {
      "application/vnd.jupyter.widget-view+json": {
       "model_id": "9a62c68af0544363be0419a862374919",
       "version_major": 2,
       "version_minor": 0
      },
      "text/plain": [
       "FileChooser(path='D:\\Users\\gasato\\anacondaProjects\\GeoChem', filename='RNGGeochem.csv', title='<b>Select csv g…"
      ]
     },
     "metadata": {},
     "output_type": "display_data"
    }
   ],
   "source": [
    "fc = FileChooser('.')\n",
    "fc.title ='<b>Select csv geoChem table</b>'\n",
    "fc.filter_pattern='*.csv'\n",
    "fc.reset(path='.', filename= \"RNGGeochem.csv\")\n",
    "\n",
    "display(fc)\n",
    "\n"
   ]
  },
  {
   "cell_type": "code",
   "execution_count": 337,
   "id": "43f81af9",
   "metadata": {},
   "outputs": [
    {
     "name": "stdout",
     "output_type": "stream",
     "text": [
      "Selected dataset to be procesed: RNGGeochem.csv\n"
     ]
    }
   ],
   "source": [
    "print('Selected dataset to be procesed: ' + fc.selected_filename)"
   ]
  },
  {
   "cell_type": "code",
   "execution_count": 338,
   "id": "9c07ca2d",
   "metadata": {
    "tags": [
     "hide_code"
    ]
   },
   "outputs": [
    {
     "data": {
      "application/vnd.jupyter.widget-view+json": {
       "model_id": "e8dd06a9b3574337aed236a065839d4a",
       "version_major": 2,
       "version_minor": 0
      },
      "text/plain": [
       "SelectMultiple(description='Drop Items', options=('NUMERO_MUE', 'TIPO_MUEST', 'SYMBOL', 'Ag_ppm', 'Al_porcien'…"
      ]
     },
     "metadata": {},
     "output_type": "display_data"
    }
   ],
   "source": [
    "# Reading csv with Pandas and create a dataframe\n",
    "\n",
    "df = pd.read_csv(fc.selected_filename)\n",
    "\n",
    "# dataframe style\n",
    "\n",
    "df = df.drop(['OBJECTID'], axis=1)\n",
    " \n",
    "itemSel = SelectMultiple(\n",
    "    options=df.columns.values,\n",
    "    #value=['Oranges'],\n",
    "    #rows=10,\n",
    "    description='Drop Items',\n",
    "    disabled=False\n",
    ")\n",
    "\n",
    "display( itemSel)\n"
   ]
  },
  {
   "cell_type": "code",
   "execution_count": 339,
   "id": "7e10aec5",
   "metadata": {},
   "outputs": [
    {
     "data": {
      "text/html": [
       "<div>\n",
       "<style scoped>\n",
       "    .dataframe tbody tr th:only-of-type {\n",
       "        vertical-align: middle;\n",
       "    }\n",
       "\n",
       "    .dataframe tbody tr th {\n",
       "        vertical-align: top;\n",
       "    }\n",
       "\n",
       "    .dataframe thead th {\n",
       "        text-align: right;\n",
       "    }\n",
       "</style>\n",
       "<table border=\"1\" class=\"dataframe\">\n",
       "  <thead>\n",
       "    <tr style=\"text-align: right;\">\n",
       "      <th></th>\n",
       "      <th>Ag_ppm</th>\n",
       "      <th>Al_porcien</th>\n",
       "      <th>As_ppm</th>\n",
       "      <th>Au_ppb</th>\n",
       "      <th>Ba_ppm</th>\n",
       "      <th>Be_ppm</th>\n",
       "      <th>Bi_ppm</th>\n",
       "      <th>Br_ppm</th>\n",
       "      <th>Ca_porcien</th>\n",
       "      <th>Cd_ppm</th>\n",
       "      <th>...</th>\n",
       "      <th>U_ppm</th>\n",
       "      <th>V_ppm</th>\n",
       "      <th>W_ppm</th>\n",
       "      <th>Y_ppm</th>\n",
       "      <th>Yb_ppm</th>\n",
       "      <th>Zn_ppm</th>\n",
       "      <th>Zr_ppm</th>\n",
       "      <th>FRACCION</th>\n",
       "      <th>Na_porcien</th>\n",
       "      <th>Sr_ppm</th>\n",
       "    </tr>\n",
       "  </thead>\n",
       "  <tbody>\n",
       "    <tr>\n",
       "      <th>0</th>\n",
       "      <td>-0.2</td>\n",
       "      <td>9.07</td>\n",
       "      <td>4.2</td>\n",
       "      <td>13.0</td>\n",
       "      <td>572.0</td>\n",
       "      <td>-1.0</td>\n",
       "      <td>12.0</td>\n",
       "      <td>10.2</td>\n",
       "      <td>4.65</td>\n",
       "      <td>0.7</td>\n",
       "      <td>...</td>\n",
       "      <td>3.4</td>\n",
       "      <td>240.0</td>\n",
       "      <td>2.0</td>\n",
       "      <td>18.0</td>\n",
       "      <td>1.2</td>\n",
       "      <td>105.0</td>\n",
       "      <td>0.0</td>\n",
       "      <td>85053</td>\n",
       "      <td>1.866</td>\n",
       "      <td>346.0</td>\n",
       "    </tr>\n",
       "    <tr>\n",
       "      <th>1</th>\n",
       "      <td>-0.2</td>\n",
       "      <td>8.83</td>\n",
       "      <td>4.1</td>\n",
       "      <td>22.0</td>\n",
       "      <td>343.0</td>\n",
       "      <td>-1.0</td>\n",
       "      <td>-5.0</td>\n",
       "      <td>10.8</td>\n",
       "      <td>4.86</td>\n",
       "      <td>1.5</td>\n",
       "      <td>...</td>\n",
       "      <td>1.6</td>\n",
       "      <td>223.0</td>\n",
       "      <td>2.0</td>\n",
       "      <td>18.1</td>\n",
       "      <td>1.7</td>\n",
       "      <td>100.0</td>\n",
       "      <td>0.0</td>\n",
       "      <td>85053</td>\n",
       "      <td>2.767</td>\n",
       "      <td>371.0</td>\n",
       "    </tr>\n",
       "    <tr>\n",
       "      <th>2</th>\n",
       "      <td>-0.2</td>\n",
       "      <td>9.11</td>\n",
       "      <td>3.4</td>\n",
       "      <td>11.0</td>\n",
       "      <td>398.0</td>\n",
       "      <td>-1.0</td>\n",
       "      <td>9.0</td>\n",
       "      <td>5.7</td>\n",
       "      <td>4.89</td>\n",
       "      <td>0.8</td>\n",
       "      <td>...</td>\n",
       "      <td>-0.5</td>\n",
       "      <td>209.0</td>\n",
       "      <td>2.0</td>\n",
       "      <td>17.2</td>\n",
       "      <td>1.2</td>\n",
       "      <td>92.8</td>\n",
       "      <td>0.0</td>\n",
       "      <td>85053</td>\n",
       "      <td>1.952</td>\n",
       "      <td>379.0</td>\n",
       "    </tr>\n",
       "    <tr>\n",
       "      <th>3</th>\n",
       "      <td>-0.2</td>\n",
       "      <td>9.34</td>\n",
       "      <td>3.2</td>\n",
       "      <td>5.0</td>\n",
       "      <td>535.0</td>\n",
       "      <td>-1.0</td>\n",
       "      <td>55.0</td>\n",
       "      <td>6.5</td>\n",
       "      <td>5.01</td>\n",
       "      <td>0.5</td>\n",
       "      <td>...</td>\n",
       "      <td>1.1</td>\n",
       "      <td>203.0</td>\n",
       "      <td>4.0</td>\n",
       "      <td>16.7</td>\n",
       "      <td>1.9</td>\n",
       "      <td>94.9</td>\n",
       "      <td>0.0</td>\n",
       "      <td>85053</td>\n",
       "      <td>2.203</td>\n",
       "      <td>389.0</td>\n",
       "    </tr>\n",
       "    <tr>\n",
       "      <th>4</th>\n",
       "      <td>-0.2</td>\n",
       "      <td>8.75</td>\n",
       "      <td>4.5</td>\n",
       "      <td>10.0</td>\n",
       "      <td>660.0</td>\n",
       "      <td>-1.0</td>\n",
       "      <td>-5.0</td>\n",
       "      <td>6.6</td>\n",
       "      <td>4.63</td>\n",
       "      <td>1.6</td>\n",
       "      <td>...</td>\n",
       "      <td>1.6</td>\n",
       "      <td>189.0</td>\n",
       "      <td>2.0</td>\n",
       "      <td>15.9</td>\n",
       "      <td>1.1</td>\n",
       "      <td>82.8</td>\n",
       "      <td>0.0</td>\n",
       "      <td>85053</td>\n",
       "      <td>1.797</td>\n",
       "      <td>383.0</td>\n",
       "    </tr>\n",
       "    <tr>\n",
       "      <th>...</th>\n",
       "      <td>...</td>\n",
       "      <td>...</td>\n",
       "      <td>...</td>\n",
       "      <td>...</td>\n",
       "      <td>...</td>\n",
       "      <td>...</td>\n",
       "      <td>...</td>\n",
       "      <td>...</td>\n",
       "      <td>...</td>\n",
       "      <td>...</td>\n",
       "      <td>...</td>\n",
       "      <td>...</td>\n",
       "      <td>...</td>\n",
       "      <td>...</td>\n",
       "      <td>...</td>\n",
       "      <td>...</td>\n",
       "      <td>...</td>\n",
       "      <td>...</td>\n",
       "      <td>...</td>\n",
       "      <td>...</td>\n",
       "      <td>...</td>\n",
       "    </tr>\n",
       "    <tr>\n",
       "      <th>3150</th>\n",
       "      <td>-0.2</td>\n",
       "      <td>7.10</td>\n",
       "      <td>8.7</td>\n",
       "      <td>2.0</td>\n",
       "      <td>366.0</td>\n",
       "      <td>-1.0</td>\n",
       "      <td>-5.0</td>\n",
       "      <td>2.5</td>\n",
       "      <td>2.59</td>\n",
       "      <td>-0.5</td>\n",
       "      <td>...</td>\n",
       "      <td>1.8</td>\n",
       "      <td>105.0</td>\n",
       "      <td>2.0</td>\n",
       "      <td>16.5</td>\n",
       "      <td>1.4</td>\n",
       "      <td>86.8</td>\n",
       "      <td>0.0</td>\n",
       "      <td>85051</td>\n",
       "      <td>1.674</td>\n",
       "      <td>252.0</td>\n",
       "    </tr>\n",
       "    <tr>\n",
       "      <th>3151</th>\n",
       "      <td>-0.2</td>\n",
       "      <td>7.92</td>\n",
       "      <td>3.2</td>\n",
       "      <td>12.0</td>\n",
       "      <td>556.0</td>\n",
       "      <td>-1.0</td>\n",
       "      <td>9.0</td>\n",
       "      <td>4.3</td>\n",
       "      <td>4.12</td>\n",
       "      <td>0.9</td>\n",
       "      <td>...</td>\n",
       "      <td>1.0</td>\n",
       "      <td>234.0</td>\n",
       "      <td>2.0</td>\n",
       "      <td>16.1</td>\n",
       "      <td>2.0</td>\n",
       "      <td>122.0</td>\n",
       "      <td>0.0</td>\n",
       "      <td>85053</td>\n",
       "      <td>2.724</td>\n",
       "      <td>283.0</td>\n",
       "    </tr>\n",
       "    <tr>\n",
       "      <th>3152</th>\n",
       "      <td>-0.2</td>\n",
       "      <td>7.69</td>\n",
       "      <td>8.4</td>\n",
       "      <td>11.0</td>\n",
       "      <td>327.0</td>\n",
       "      <td>-1.0</td>\n",
       "      <td>-5.0</td>\n",
       "      <td>7.9</td>\n",
       "      <td>3.15</td>\n",
       "      <td>1.3</td>\n",
       "      <td>...</td>\n",
       "      <td>3.4</td>\n",
       "      <td>285.0</td>\n",
       "      <td>11.0</td>\n",
       "      <td>20.1</td>\n",
       "      <td>2.4</td>\n",
       "      <td>114.0</td>\n",
       "      <td>0.0</td>\n",
       "      <td>85053</td>\n",
       "      <td>1.994</td>\n",
       "      <td>271.0</td>\n",
       "    </tr>\n",
       "    <tr>\n",
       "      <th>3153</th>\n",
       "      <td>-0.2</td>\n",
       "      <td>8.94</td>\n",
       "      <td>6.2</td>\n",
       "      <td>15.0</td>\n",
       "      <td>315.0</td>\n",
       "      <td>-1.0</td>\n",
       "      <td>6.0</td>\n",
       "      <td>7.2</td>\n",
       "      <td>4.59</td>\n",
       "      <td>0.7</td>\n",
       "      <td>...</td>\n",
       "      <td>5.6</td>\n",
       "      <td>175.0</td>\n",
       "      <td>33.0</td>\n",
       "      <td>18.1</td>\n",
       "      <td>2.2</td>\n",
       "      <td>81.8</td>\n",
       "      <td>0.0</td>\n",
       "      <td>85053</td>\n",
       "      <td>2.229</td>\n",
       "      <td>347.0</td>\n",
       "    </tr>\n",
       "    <tr>\n",
       "      <th>3154</th>\n",
       "      <td>0.3</td>\n",
       "      <td>8.39</td>\n",
       "      <td>3.9</td>\n",
       "      <td>11.0</td>\n",
       "      <td>565.0</td>\n",
       "      <td>-1.0</td>\n",
       "      <td>-5.0</td>\n",
       "      <td>1.6</td>\n",
       "      <td>3.29</td>\n",
       "      <td>-0.5</td>\n",
       "      <td>...</td>\n",
       "      <td>1.1</td>\n",
       "      <td>222.0</td>\n",
       "      <td>4.0</td>\n",
       "      <td>21.9</td>\n",
       "      <td>3.2</td>\n",
       "      <td>100.0</td>\n",
       "      <td>0.0</td>\n",
       "      <td>85053</td>\n",
       "      <td>2.018</td>\n",
       "      <td>346.0</td>\n",
       "    </tr>\n",
       "  </tbody>\n",
       "</table>\n",
       "<p>3155 rows × 58 columns</p>\n",
       "</div>"
      ],
      "text/plain": [
       "      Ag_ppm  Al_porcien  As_ppm  Au_ppb  Ba_ppm  Be_ppm  Bi_ppm  Br_ppm  \\\n",
       "0       -0.2        9.07     4.2    13.0   572.0    -1.0    12.0    10.2   \n",
       "1       -0.2        8.83     4.1    22.0   343.0    -1.0    -5.0    10.8   \n",
       "2       -0.2        9.11     3.4    11.0   398.0    -1.0     9.0     5.7   \n",
       "3       -0.2        9.34     3.2     5.0   535.0    -1.0    55.0     6.5   \n",
       "4       -0.2        8.75     4.5    10.0   660.0    -1.0    -5.0     6.6   \n",
       "...      ...         ...     ...     ...     ...     ...     ...     ...   \n",
       "3150    -0.2        7.10     8.7     2.0   366.0    -1.0    -5.0     2.5   \n",
       "3151    -0.2        7.92     3.2    12.0   556.0    -1.0     9.0     4.3   \n",
       "3152    -0.2        7.69     8.4    11.0   327.0    -1.0    -5.0     7.9   \n",
       "3153    -0.2        8.94     6.2    15.0   315.0    -1.0     6.0     7.2   \n",
       "3154     0.3        8.39     3.9    11.0   565.0    -1.0    -5.0     1.6   \n",
       "\n",
       "      Ca_porcien  Cd_ppm  ...  U_ppm  V_ppm  W_ppm  Y_ppm  Yb_ppm  Zn_ppm  \\\n",
       "0           4.65     0.7  ...    3.4  240.0    2.0   18.0     1.2   105.0   \n",
       "1           4.86     1.5  ...    1.6  223.0    2.0   18.1     1.7   100.0   \n",
       "2           4.89     0.8  ...   -0.5  209.0    2.0   17.2     1.2    92.8   \n",
       "3           5.01     0.5  ...    1.1  203.0    4.0   16.7     1.9    94.9   \n",
       "4           4.63     1.6  ...    1.6  189.0    2.0   15.9     1.1    82.8   \n",
       "...          ...     ...  ...    ...    ...    ...    ...     ...     ...   \n",
       "3150        2.59    -0.5  ...    1.8  105.0    2.0   16.5     1.4    86.8   \n",
       "3151        4.12     0.9  ...    1.0  234.0    2.0   16.1     2.0   122.0   \n",
       "3152        3.15     1.3  ...    3.4  285.0   11.0   20.1     2.4   114.0   \n",
       "3153        4.59     0.7  ...    5.6  175.0   33.0   18.1     2.2    81.8   \n",
       "3154        3.29    -0.5  ...    1.1  222.0    4.0   21.9     3.2   100.0   \n",
       "\n",
       "      Zr_ppm  FRACCION  Na_porcien  Sr_ppm  \n",
       "0        0.0     85053       1.866   346.0  \n",
       "1        0.0     85053       2.767   371.0  \n",
       "2        0.0     85053       1.952   379.0  \n",
       "3        0.0     85053       2.203   389.0  \n",
       "4        0.0     85053       1.797   383.0  \n",
       "...      ...       ...         ...     ...  \n",
       "3150     0.0     85051       1.674   252.0  \n",
       "3151     0.0     85053       2.724   283.0  \n",
       "3152     0.0     85053       1.994   271.0  \n",
       "3153     0.0     85053       2.229   347.0  \n",
       "3154     0.0     85053       2.018   346.0  \n",
       "\n",
       "[3155 rows x 58 columns]"
      ]
     },
     "metadata": {},
     "output_type": "display_data"
    }
   ],
   "source": [
    "dfD = df.drop(list(itemSel.value), axis=1)\n",
    "\n",
    "display(dfD)"
   ]
  },
  {
   "cell_type": "code",
   "execution_count": 341,
   "id": "570dd670",
   "metadata": {
    "tags": [
     "hide_code"
    ]
   },
   "outputs": [
    {
     "data": {
      "application/vnd.jupyter.widget-view+json": {
       "model_id": "d70ee09d070a4285a05c6b084e36e298",
       "version_major": 2,
       "version_minor": 0
      },
      "text/plain": [
       "Dropdown(description='Column:', options=('Ag_ppm', 'Al_porcien', 'As_ppm', 'Au_ppb', 'Ba_ppm', 'Be_ppm', 'Bi_p…"
      ]
     },
     "metadata": {},
     "output_type": "display_data"
    },
    {
     "data": {
      "application/vnd.jupyter.widget-view+json": {
       "model_id": "fb5000a72d094c0fa66f8eb088225712",
       "version_major": 2,
       "version_minor": 0
      },
      "text/plain": [
       "Checkbox(value=False, description='Log10 (y/n)')"
      ]
     },
     "metadata": {},
     "output_type": "display_data"
    }
   ],
   "source": [
    "# Menu for selecting item column and log or not log\n",
    "\n",
    "fieldNameMenu = Dropdown(options=dfD.columns.values, description='Column:')\n",
    "\n",
    "box = Checkbox(False, description='Log10 (y/n)')\n",
    "\n",
    "display(fieldNameMenu, box)\n"
   ]
  },
  {
   "cell_type": "code",
   "execution_count": 342,
   "id": "338e3db5",
   "metadata": {
    "tags": [
     "hide_code"
    ]
   },
   "outputs": [],
   "source": [
    "# Read selected column\n",
    "\n",
    "dataSerie = df.loc[:,fieldNameMenu.value].loc[lambda x : x > 0]"
   ]
  },
  {
   "cell_type": "code",
   "execution_count": 343,
   "id": "a52b7b61",
   "metadata": {
    "tags": [
     "hide_code"
    ]
   },
   "outputs": [],
   "source": [
    "      \n",
    "dataLog10 = np.log10(dataSerie)"
   ]
  },
  {
   "cell_type": "code",
   "execution_count": 344,
   "id": "7a4dda97",
   "metadata": {
    "tags": [
     "hide_code"
    ]
   },
   "outputs": [
    {
     "name": "stdout",
     "output_type": "stream",
     "text": [
      "Select min and max values threshold\n"
     ]
    },
    {
     "data": {
      "application/vnd.jupyter.widget-view+json": {
       "model_id": "95faf1bd5165435b854f3c44b9e4070a",
       "version_major": 2,
       "version_minor": 0
      },
      "text/plain": [
       "FloatRangeSlider(value=(-0.6989700043360187, 0.3424226808222063), continuous_update=False, description='Log10:…"
      ]
     },
     "metadata": {},
     "output_type": "display_data"
    }
   ],
   "source": [
    "f = FloatRangeSlider(\n",
    "    value=[dataLog10.min(), dataLog10.max()],\n",
    "    min=dataLog10.min(),\n",
    "    max=dataLog10.max(),\n",
    "    step=0.01,\n",
    "    description='Log10:',\n",
    "    disabled=False,\n",
    "    continuous_update=False,\n",
    "    orientation='horizontal',\n",
    "    readout=True,\n",
    "    readout_format='.2f',\n",
    ")\n",
    "print(\"Select min and max values threshold\")\n",
    "display(f)"
   ]
  },
  {
   "cell_type": "code",
   "execution_count": 345,
   "id": "225e2b73",
   "metadata": {
    "tags": [
     "hide_code"
    ]
   },
   "outputs": [
    {
     "name": "stdout",
     "output_type": "stream",
     "text": [
      "Selected min & max values: -0.6989700043360187 0.3424226808222063\n"
     ]
    }
   ],
   "source": [
    "print(\"Selected min & max values: %s %s\" % f.value)"
   ]
  },
  {
   "cell_type": "code",
   "execution_count": 346,
   "id": "2cb007c6",
   "metadata": {
    "tags": [
     "hide_code"
    ]
   },
   "outputs": [],
   "source": [
    "#Filtering \n",
    "\n",
    "dataLog10F = dataLog10.loc[ lambda x: (dataLog10 >= f.value[0]) & (dataLog10 <= f.value[1])]"
   ]
  },
  {
   "cell_type": "code",
   "execution_count": 364,
   "id": "049c380a",
   "metadata": {
    "scrolled": false
   },
   "outputs": [
    {
     "name": "stdout",
     "output_type": "stream",
     "text": [
      "Stats for ItemAg_ppm\n"
     ]
    },
    {
     "data": {
      "text/html": [
       "<div>\n",
       "<style scoped>\n",
       "    .dataframe tbody tr th:only-of-type {\n",
       "        vertical-align: middle;\n",
       "    }\n",
       "\n",
       "    .dataframe tbody tr th {\n",
       "        vertical-align: top;\n",
       "    }\n",
       "\n",
       "    .dataframe thead th {\n",
       "        text-align: right;\n",
       "    }\n",
       "</style>\n",
       "<table border=\"1\" class=\"dataframe\">\n",
       "  <thead>\n",
       "    <tr style=\"text-align: right;\">\n",
       "      <th></th>\n",
       "      <th>Data population</th>\n",
       "      <th>Min Value</th>\n",
       "      <th>Max Value</th>\n",
       "      <th>Mean Value</th>\n",
       "      <th>Standard Desviation</th>\n",
       "      <th>Percentil 10%</th>\n",
       "      <th>Percentil 50%</th>\n",
       "      <th>Percentil 90%</th>\n",
       "    </tr>\n",
       "  </thead>\n",
       "  <tbody>\n",
       "    <tr>\n",
       "      <th>Item Ag_ppm stats</th>\n",
       "      <td>257</td>\n",
       "      <td>0.20000</td>\n",
       "      <td>2.200000</td>\n",
       "      <td>0.449805</td>\n",
       "      <td>0.270867</td>\n",
       "      <td>0.20000</td>\n",
       "      <td>0.40000</td>\n",
       "      <td>0.700000</td>\n",
       "    </tr>\n",
       "    <tr>\n",
       "      <th>Log10 stats</th>\n",
       "      <td>257</td>\n",
       "      <td>-0.69897</td>\n",
       "      <td>0.342423</td>\n",
       "      <td>-0.401640</td>\n",
       "      <td>0.207791</td>\n",
       "      <td>-0.69897</td>\n",
       "      <td>-0.39794</td>\n",
       "      <td>-0.154902</td>\n",
       "    </tr>\n",
       "  </tbody>\n",
       "</table>\n",
       "</div>"
      ],
      "text/plain": [
       "                   Data population  Min Value  Max Value  Mean Value  \\\n",
       "Item Ag_ppm stats              257    0.20000   2.200000    0.449805   \n",
       "Log10 stats                    257   -0.69897   0.342423   -0.401640   \n",
       "\n",
       "                   Standard Desviation  Percentil 10%  Percentil 50%  \\\n",
       "Item Ag_ppm stats             0.270867        0.20000        0.40000   \n",
       "Log10 stats                   0.207791       -0.69897       -0.39794   \n",
       "\n",
       "                   Percentil 90%  \n",
       "Item Ag_ppm stats       0.700000  \n",
       "Log10 stats            -0.154902  "
      ]
     },
     "metadata": {},
     "output_type": "display_data"
    }
   ],
   "source": [
    "statsDict={'Data population': [dataSerie.size, dataLog10F.size],\n",
    "          'Min Value':[dataSerie.min(), dataLog10F.min()],\n",
    "          'Max Value':[dataSerie.max(), dataLog10F.max()],\n",
    "          'Mean Value':[dataSerie.mean(), dataLog10F.mean()],\n",
    "          'Standard Desviation':[dataSerie.std(), dataLog10F.std()],\n",
    "          'Percentil 10%':[np.quantile(dataSerie, .10), np.quantile(dataLog10F, .10)],\n",
    "          'Percentil 50%':[np.quantile(dataSerie, .50), np.quantile(dataLog10F, .50)],\n",
    "          'Percentil 90%':[np.quantile(dataSerie, .90), np.quantile(dataLog10F, .90)]\n",
    "}\n",
    "\n",
    "StatsIndexLabels = ['Item ' + fieldNameMenu.value + ' stats', 'Log10 stats']\n",
    "dfStats          = pd.DataFrame(statsDict, index=StatsIndexLabels)\n",
    "dfStats          = dfStats.style.set_caption(fieldNameMenu.value + ' Values Statistics')\n",
    "\n",
    "#print('Stats for Item' + fieldNameMenu.value )\n",
    "\n",
    "display(dfStats)\n",
    "\n",
    "\n"
   ]
  },
  {
   "cell_type": "code",
   "execution_count": 357,
   "id": "cbeaafef",
   "metadata": {},
   "outputs": [
    {
     "data": {
      "image/png": "[encoded data removed]",
      "text/plain": [
       "<Figure size 500x500 with 1 Axes>"
      ]
     },
     "metadata": {},
     "output_type": "display_data"
    }
   ],
   "source": [
    "\n",
    "sns.displot(data=dataLog10F, kde=True).set(title=\"Histogram\");\n",
    "\n"
   ]
  },
  {
   "cell_type": "code",
   "execution_count": 359,
   "id": "33b0a172",
   "metadata": {},
   "outputs": [
    {
     "data": {
      "image/png": "[encoded data removed]",
      "text/plain": [
       "<Figure size 640x480 with 1 Axes>"
      ]
     },
     "metadata": {},
     "output_type": "display_data"
    }
   ],
   "source": [
    "#Density plot\n",
    "\n",
    "sns.kdeplot(dataLog10F).set(title='Density Plot');\n"
   ]
  },
  {
   "cell_type": "code",
   "execution_count": 360,
   "id": "f3f53398",
   "metadata": {},
   "outputs": [
    {
     "data": {
      "image/png": "[encoded data removed]",
      "text/plain": [
       "<Figure size 640x480 with 1 Axes>"
      ]
     },
     "metadata": {},
     "output_type": "display_data"
    }
   ],
   "source": [
    "sns.boxplot(y=dataLog10F).set(title='Box Plot');"
   ]
  },
  {
   "cell_type": "code",
   "execution_count": 361,
   "id": "204c0b71",
   "metadata": {},
   "outputs": [
    {
     "data": {
      "image/png": "[encoded data removed]",
      "text/plain": [
       "<Figure size 640x480 with 1 Axes>"
      ]
     },
     "metadata": {},
     "output_type": "display_data"
    }
   ],
   "source": [
    "qqplot(dataLog10F, line='s')\n",
    "plt.title('Normal Q-Q Plot')\n",
    "plt.show()"
   ]
  },
  {
   "cell_type": "code",
   "execution_count": 353,
   "id": "d123d672",
   "metadata": {},
   "outputs": [
    {
     "name": "stdout",
     "output_type": "stream",
     "text": [
      "Stats=0.934, p=0.000\n",
      "\u001b[1m\u001b[31mAccording to  Shapiro-Wilks the sample has NOT a Gauss distribution (The Null hypotesis is rejected)\u001b[0m\n"
     ]
    }
   ],
   "source": [
    "# normality test\n",
    "\n",
    "\n",
    "'''\n",
    "Statistic: A quantity calculated by the test that can be interpreted in the context of the test via comparing \n",
    "it to critical values from the distribution of the test statistic.\n",
    "p-value: Used to interpret the test, in this case whether the sample was drawn from a Gaussian distribution.\n",
    "\n",
    "'''\n",
    "\n",
    "stat, p = shapiro(dataLog10F)\n",
    "\n",
    "print('Stats=%.3f, p=%.3f' % (stat, p))\n",
    "\n",
    "# interpret\n",
    "\n",
    "alpha = 0.05\n",
    "\n",
    "if p > alpha:\n",
    "    cprint('According to  Shapiro-Wilks the sample has a Gauss distribution (The Null hypotesis is not reyected)','red',  attrs=['bold'])\n",
    "else:\n",
    "    cprint('According to  Shapiro-Wilks the sample has NOT a Gauss distribution (The Null hypotesis is rejected)','red',  attrs=['bold'])\n",
    "\n",
    "\n",
    "\n"
   ]
  }
 ],
 "metadata": {
  "celltoolbar": "Tags",
  "kernelspec": {
   "display_name": "Python 3 (ipykernel)",
   "language": "python",
   "name": "python3"
  },
  "language_info": {
   "codemirror_mode": {
    "name": "ipython",
    "version": 3
   },
   "file_extension": ".py",
   "mimetype": "text/x-python",
   "name": "python",
   "nbconvert_exporter": "python",
   "pygments_lexer": "ipython3",
   "version": "3.9.12"
  }
 },
 "nbformat": 4,
 "nbformat_minor": 5
}
