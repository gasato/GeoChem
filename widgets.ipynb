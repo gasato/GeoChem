{
 "cells": [
  {
   "cell_type": "markdown",
   "metadata": {},
   "source": [
    "# Análisis de Estadísticos"
   ]
  },
  {
   "cell_type": "code",
   "execution_count": 1,
   "metadata": {},
   "outputs": [
    {
     "name": "stderr",
     "output_type": "stream",
     "text": [
      "gdata: Unable to locate valid perl interpreter\n",
      "gdata: \n",
      "gdata: read.xls() will be unable to read Excel XLS and XLSX files\n",
      "gdata: unless the 'perl=' argument is used to specify the location of a\n",
      "gdata: valid perl intrpreter.\n",
      "gdata: \n",
      "gdata: (To avoid display of this message in the future, please ensure\n",
      "gdata: perl is installed and available on the executable search path.)\n",
      "gdata: Unable to load perl libaries needed by read.xls()\n",
      "gdata: to support 'XLX' (Excel 97-2004) files.\n",
      "\n",
      "gdata: Unable to load perl libaries needed by read.xls()\n",
      "gdata: to support 'XLSX' (Excel 2007+) files.\n",
      "\n",
      "gdata: Run the function 'installXLSXsupport()'\n",
      "gdata: to automatically download and install the perl\n",
      "gdata: libaries needed to support Excel XLS and XLSX formats.\n",
      "\n",
      "Attaching package: 'gdata'\n",
      "\n",
      "The following object is masked from 'package:stats':\n",
      "\n",
      "    nobs\n",
      "\n",
      "The following object is masked from 'package:utils':\n",
      "\n",
      "    object.size\n",
      "\n",
      "The following object is masked from 'package:base':\n",
      "\n",
      "    startsWith\n",
      "\n"
     ]
    }
   ],
   "source": [
    "library(gdata)"
   ]
  },
  {
   "cell_type": "code",
   "execution_count": 2,
   "metadata": {},
   "outputs": [],
   "source": [
    "library(shiny)\n",
    "\n",
    "FileNameDFrame <- fileInput(\"inputId\", \"label\", multiple = FALSE, accept = NULL)\n"
   ]
  },
  {
   "cell_type": "markdown",
   "metadata": {},
   "source": [
    "\n",
    "\n",
    "fluidPage(\n",
    "    \n",
    "  # Copy the line below to make a file upload manager\n",
    "  fileInput(\"file\", label = h3(\"File input\")),\n",
    "  \n",
    "  hr(),\n",
    "  fluidRow(column(4, verbatimTextOutput(\"value\")))\n",
    "  \n",
    ")\n",
    "\n"
   ]
  },
  {
   "cell_type": "markdown",
   "metadata": {},
   "source": [
    "About gdata https://cran.r-project.org/web/packages/gdata/index.html"
   ]
  },
  {
   "cell_type": "code",
   "execution_count": 3,
   "metadata": {},
   "outputs": [
    {
     "data": {
      "text/html": [
       "'D:/Users/gasato/anacondaProjects/GeoChem'"
      ],
      "text/latex": [
       "'D:/Users/gasato/anacondaProjects/GeoChem'"
      ],
      "text/markdown": [
       "'D:/Users/gasato/anacondaProjects/GeoChem'"
      ],
      "text/plain": [
       "[1] \"D:/Users/gasato/anacondaProjects/GeoChem\""
      ]
     },
     "metadata": {},
     "output_type": "display_data"
    }
   ],
   "source": [
    "#setwd(\"D:/taller/pirquitas/Geoquimica-revisada\")\n",
    "getwd()\n",
    "\n",
    "fileName = \"RNGGeoChem.csv\"\n",
    "\n",
    "mydata = read.csv(fileName, header=TRUE, sep = ',')"
   ]
  },
  {
   "cell_type": "code",
   "execution_count": null,
   "metadata": {},
   "outputs": [],
   "source": []
  },
  {
   "cell_type": "code",
   "execution_count": 5,
   "metadata": {},
   "outputs": [
    {
     "data": {
      "text/html": [
       "<ol class=list-inline>\n",
       "\t<li>'OBJECTID'</li>\n",
       "\t<li>'NUMERO_MUE'</li>\n",
       "\t<li>'TIPO_MUEST'</li>\n",
       "\t<li>'SYMBOL'</li>\n",
       "\t<li>'Ag_ppm'</li>\n",
       "\t<li>'Al_porcien'</li>\n",
       "\t<li>'As_ppm'</li>\n",
       "\t<li>'Au_ppb'</li>\n",
       "\t<li>'Ba_ppm'</li>\n",
       "\t<li>'Be_ppm'</li>\n",
       "\t<li>'Bi_ppm'</li>\n",
       "\t<li>'Br_ppm'</li>\n",
       "\t<li>'Ca_porcien'</li>\n",
       "\t<li>'Cd_ppm'</li>\n",
       "\t<li>'Ce_ppm'</li>\n",
       "\t<li>'Co_ppm'</li>\n",
       "\t<li>'Cr_ppm'</li>\n",
       "\t<li>'Cs_ppm'</li>\n",
       "\t<li>'Cu_ppm'</li>\n",
       "\t<li>'Eu_ppm'</li>\n",
       "\t<li>'Fe_porcien'</li>\n",
       "\t<li>'Ga_ppm'</li>\n",
       "\t<li>'Ge_ppm'</li>\n",
       "\t<li>'Hf_ppm'</li>\n",
       "\t<li>'Hg_ppm'</li>\n",
       "\t<li>'In_ppm'</li>\n",
       "\t<li>'Ir_ppb'</li>\n",
       "\t<li>'K_porcient'</li>\n",
       "\t<li>'La_ppm'</li>\n",
       "\t<li>'Li_ppm'</li>\n",
       "\t<li>'Lu_ppm'</li>\n",
       "\t<li>'Mg_porcien'</li>\n",
       "\t<li>'Mn_ppm'</li>\n",
       "\t<li>'Mo_ppm'</li>\n",
       "\t<li>'Nb_ppm'</li>\n",
       "\t<li>'Nd_ppm'</li>\n",
       "\t<li>'Ni_ppm'</li>\n",
       "\t<li>'P_ppm'</li>\n",
       "\t<li>'Pb_ppm'</li>\n",
       "\t<li>'Rb_ppm'</li>\n",
       "\t<li>'S_porcient'</li>\n",
       "\t<li>'Sb_ppm'</li>\n",
       "\t<li>'Sc_ppm'</li>\n",
       "\t<li>'Se_ppm'</li>\n",
       "\t<li>'Sm_ppm'</li>\n",
       "\t<li>'Sn_ppm'</li>\n",
       "\t<li>'Ta_ppm'</li>\n",
       "\t<li>'Tb_ppm'</li>\n",
       "\t<li>'Te_ppm'</li>\n",
       "\t<li>'Th_ppm'</li>\n",
       "\t<li>'Ti_porcien'</li>\n",
       "\t<li>'TI_ppm'</li>\n",
       "\t<li>'U_ppm'</li>\n",
       "\t<li>'V_ppm'</li>\n",
       "\t<li>'W_ppm'</li>\n",
       "\t<li>'Y_ppm'</li>\n",
       "\t<li>'Yb_ppm'</li>\n",
       "\t<li>'Zn_ppm'</li>\n",
       "\t<li>'Zr_ppm'</li>\n",
       "\t<li>'FRACCION'</li>\n",
       "\t<li>'Na_porcien'</li>\n",
       "\t<li>'REFERENCIA'</li>\n",
       "\t<li>'METODO'</li>\n",
       "\t<li>'Sr_ppm'</li>\n",
       "\t<li>'latDD'</li>\n",
       "\t<li>'lonDD'</li>\n",
       "\t<li>'rng.unidad'</li>\n",
       "\t<li>'rng.unid_1'</li>\n",
       "</ol>\n"
      ],
      "text/latex": [
       "\\begin{enumerate*}\n",
       "\\item 'OBJECTID'\n",
       "\\item 'NUMERO\\_MUE'\n",
       "\\item 'TIPO\\_MUEST'\n",
       "\\item 'SYMBOL'\n",
       "\\item 'Ag\\_ppm'\n",
       "\\item 'Al\\_porcien'\n",
       "\\item 'As\\_ppm'\n",
       "\\item 'Au\\_ppb'\n",
       "\\item 'Ba\\_ppm'\n",
       "\\item 'Be\\_ppm'\n",
       "\\item 'Bi\\_ppm'\n",
       "\\item 'Br\\_ppm'\n",
       "\\item 'Ca\\_porcien'\n",
       "\\item 'Cd\\_ppm'\n",
       "\\item 'Ce\\_ppm'\n",
       "\\item 'Co\\_ppm'\n",
       "\\item 'Cr\\_ppm'\n",
       "\\item 'Cs\\_ppm'\n",
       "\\item 'Cu\\_ppm'\n",
       "\\item 'Eu\\_ppm'\n",
       "\\item 'Fe\\_porcien'\n",
       "\\item 'Ga\\_ppm'\n",
       "\\item 'Ge\\_ppm'\n",
       "\\item 'Hf\\_ppm'\n",
       "\\item 'Hg\\_ppm'\n",
       "\\item 'In\\_ppm'\n",
       "\\item 'Ir\\_ppb'\n",
       "\\item 'K\\_porcient'\n",
       "\\item 'La\\_ppm'\n",
       "\\item 'Li\\_ppm'\n",
       "\\item 'Lu\\_ppm'\n",
       "\\item 'Mg\\_porcien'\n",
       "\\item 'Mn\\_ppm'\n",
       "\\item 'Mo\\_ppm'\n",
       "\\item 'Nb\\_ppm'\n",
       "\\item 'Nd\\_ppm'\n",
       "\\item 'Ni\\_ppm'\n",
       "\\item 'P\\_ppm'\n",
       "\\item 'Pb\\_ppm'\n",
       "\\item 'Rb\\_ppm'\n",
       "\\item 'S\\_porcient'\n",
       "\\item 'Sb\\_ppm'\n",
       "\\item 'Sc\\_ppm'\n",
       "\\item 'Se\\_ppm'\n",
       "\\item 'Sm\\_ppm'\n",
       "\\item 'Sn\\_ppm'\n",
       "\\item 'Ta\\_ppm'\n",
       "\\item 'Tb\\_ppm'\n",
       "\\item 'Te\\_ppm'\n",
       "\\item 'Th\\_ppm'\n",
       "\\item 'Ti\\_porcien'\n",
       "\\item 'TI\\_ppm'\n",
       "\\item 'U\\_ppm'\n",
       "\\item 'V\\_ppm'\n",
       "\\item 'W\\_ppm'\n",
       "\\item 'Y\\_ppm'\n",
       "\\item 'Yb\\_ppm'\n",
       "\\item 'Zn\\_ppm'\n",
       "\\item 'Zr\\_ppm'\n",
       "\\item 'FRACCION'\n",
       "\\item 'Na\\_porcien'\n",
       "\\item 'REFERENCIA'\n",
       "\\item 'METODO'\n",
       "\\item 'Sr\\_ppm'\n",
       "\\item 'latDD'\n",
       "\\item 'lonDD'\n",
       "\\item 'rng.unidad'\n",
       "\\item 'rng.unid\\_1'\n",
       "\\end{enumerate*}\n"
      ],
      "text/markdown": [
       "1. 'OBJECTID'\n",
       "2. 'NUMERO_MUE'\n",
       "3. 'TIPO_MUEST'\n",
       "4. 'SYMBOL'\n",
       "5. 'Ag_ppm'\n",
       "6. 'Al_porcien'\n",
       "7. 'As_ppm'\n",
       "8. 'Au_ppb'\n",
       "9. 'Ba_ppm'\n",
       "10. 'Be_ppm'\n",
       "11. 'Bi_ppm'\n",
       "12. 'Br_ppm'\n",
       "13. 'Ca_porcien'\n",
       "14. 'Cd_ppm'\n",
       "15. 'Ce_ppm'\n",
       "16. 'Co_ppm'\n",
       "17. 'Cr_ppm'\n",
       "18. 'Cs_ppm'\n",
       "19. 'Cu_ppm'\n",
       "20. 'Eu_ppm'\n",
       "21. 'Fe_porcien'\n",
       "22. 'Ga_ppm'\n",
       "23. 'Ge_ppm'\n",
       "24. 'Hf_ppm'\n",
       "25. 'Hg_ppm'\n",
       "26. 'In_ppm'\n",
       "27. 'Ir_ppb'\n",
       "28. 'K_porcient'\n",
       "29. 'La_ppm'\n",
       "30. 'Li_ppm'\n",
       "31. 'Lu_ppm'\n",
       "32. 'Mg_porcien'\n",
       "33. 'Mn_ppm'\n",
       "34. 'Mo_ppm'\n",
       "35. 'Nb_ppm'\n",
       "36. 'Nd_ppm'\n",
       "37. 'Ni_ppm'\n",
       "38. 'P_ppm'\n",
       "39. 'Pb_ppm'\n",
       "40. 'Rb_ppm'\n",
       "41. 'S_porcient'\n",
       "42. 'Sb_ppm'\n",
       "43. 'Sc_ppm'\n",
       "44. 'Se_ppm'\n",
       "45. 'Sm_ppm'\n",
       "46. 'Sn_ppm'\n",
       "47. 'Ta_ppm'\n",
       "48. 'Tb_ppm'\n",
       "49. 'Te_ppm'\n",
       "50. 'Th_ppm'\n",
       "51. 'Ti_porcien'\n",
       "52. 'TI_ppm'\n",
       "53. 'U_ppm'\n",
       "54. 'V_ppm'\n",
       "55. 'W_ppm'\n",
       "56. 'Y_ppm'\n",
       "57. 'Yb_ppm'\n",
       "58. 'Zn_ppm'\n",
       "59. 'Zr_ppm'\n",
       "60. 'FRACCION'\n",
       "61. 'Na_porcien'\n",
       "62. 'REFERENCIA'\n",
       "63. 'METODO'\n",
       "64. 'Sr_ppm'\n",
       "65. 'latDD'\n",
       "66. 'lonDD'\n",
       "67. 'rng.unidad'\n",
       "68. 'rng.unid_1'\n",
       "\n",
       "\n"
      ],
      "text/plain": [
       " [1] \"OBJECTID\"   \"NUMERO_MUE\" \"TIPO_MUEST\" \"SYMBOL\"     \"Ag_ppm\"    \n",
       " [6] \"Al_porcien\" \"As_ppm\"     \"Au_ppb\"     \"Ba_ppm\"     \"Be_ppm\"    \n",
       "[11] \"Bi_ppm\"     \"Br_ppm\"     \"Ca_porcien\" \"Cd_ppm\"     \"Ce_ppm\"    \n",
       "[16] \"Co_ppm\"     \"Cr_ppm\"     \"Cs_ppm\"     \"Cu_ppm\"     \"Eu_ppm\"    \n",
       "[21] \"Fe_porcien\" \"Ga_ppm\"     \"Ge_ppm\"     \"Hf_ppm\"     \"Hg_ppm\"    \n",
       "[26] \"In_ppm\"     \"Ir_ppb\"     \"K_porcient\" \"La_ppm\"     \"Li_ppm\"    \n",
       "[31] \"Lu_ppm\"     \"Mg_porcien\" \"Mn_ppm\"     \"Mo_ppm\"     \"Nb_ppm\"    \n",
       "[36] \"Nd_ppm\"     \"Ni_ppm\"     \"P_ppm\"      \"Pb_ppm\"     \"Rb_ppm\"    \n",
       "[41] \"S_porcient\" \"Sb_ppm\"     \"Sc_ppm\"     \"Se_ppm\"     \"Sm_ppm\"    \n",
       "[46] \"Sn_ppm\"     \"Ta_ppm\"     \"Tb_ppm\"     \"Te_ppm\"     \"Th_ppm\"    \n",
       "[51] \"Ti_porcien\" \"TI_ppm\"     \"U_ppm\"      \"V_ppm\"      \"W_ppm\"     \n",
       "[56] \"Y_ppm\"      \"Yb_ppm\"     \"Zn_ppm\"     \"Zr_ppm\"     \"FRACCION\"  \n",
       "[61] \"Na_porcien\" \"REFERENCIA\" \"METODO\"     \"Sr_ppm\"     \"latDD\"     \n",
       "[66] \"lonDD\"      \"rng.unidad\" \"rng.unid_1\""
      ]
     },
     "metadata": {},
     "output_type": "display_data"
    }
   ],
   "source": [
    "names(mydata)"
   ]
  },
  {
   "cell_type": "code",
   "execution_count": 12,
   "metadata": {},
   "outputs": [],
   "source": [
    "elementsLst = c(mydata$Ag_ppm,mydata$As_ppm,mydata$Au_ppb)"
   ]
  },
  {
   "cell_type": "code",
   "execution_count": 14,
   "metadata": {},
   "outputs": [],
   "source": [
    "eda.shape <- function(xx, title, labl, nc) {\n",
    "  \n",
    "  hist(xx, main = 'Histograma', xlab = labl, nclass = nc)\n",
    "  box()\n",
    "  boxplot(xx, main='Box Plot', ylab = labl)\n",
    "  iqd <- summary(xx)[5] - summary(xx)[2]\n",
    "  plot(density(xx, width=iqd), main ='Density Plot', xlab = labl, ylab = 'Densidad', type = 'o')\n",
    "  qqnorm(xx, ylab = labl)\n",
    "  qqline(xx)\n",
    "}"
   ]
  },
  {
   "cell_type": "code",
   "execution_count": 21,
   "metadata": {},
   "outputs": [
    {
     "name": "stderr",
     "output_type": "stream",
     "text": [
      "Warning message in min(x):\n",
      "\"ningún argumento finito para min; retornando Inf\"Warning message in max(x):\n",
      "\"ningun argumento finito para max; retornando -Inf\""
     ]
    },
    {
     "ename": "ERROR",
     "evalue": "Error in hist.default(xx, main = \"Histograma\", xlab = labl, nclass = nc): character(0)\n",
     "output_type": "error",
     "traceback": [
      "Error in hist.default(xx, main = \"Histograma\", xlab = labl, nclass = nc): character(0)\nTraceback:\n",
      "1. eda.shape(xx, title, labl, 50)",
      "2. hist(xx, main = \"Histograma\", xlab = labl, nclass = nc)   # at line 3 of file <text>",
      "3. hist.default(xx, main = \"Histograma\", xlab = labl, nclass = nc)",
      "4. stop(gettextf(\"hist.default: pretty() error, breaks=%s\", format(breaks)), \n .     domain = NA)"
     ]
    }
   ],
   "source": [
    "for (e in elementsLst){\n",
    "    e1 = e[e > 0]\n",
    "    par(mfrow=c(2,2))\n",
    "    xx <- log10(e1)\n",
    "    title <- 'Pirquitas Au'\n",
    "    labl <- 'Log 10 (Au ppb)'\n",
    "    eda.shape(xx,title, labl, 50)\n",
    "    summary(log10(e1))\n",
    "    quantile(log10(e1), 0.9)\n",
    "}"
   ]
  },
  {
   "cell_type": "code",
   "execution_count": 32,
   "metadata": {},
   "outputs": [],
   "source": [
    "a = log10(mydata$Au_ppb[mydata$Au_ppb > 0 & mydata$Au_ppb < 100])"
   ]
  },
  {
   "cell_type": "code",
   "execution_count": 33,
   "metadata": {},
   "outputs": [
    {
     "data": {
      "image/png": "[encoded data removed]",
      "text/plain": [
       "Plot with title \"Histogram of a\""
      ]
     },
     "metadata": {},
     "output_type": "display_data"
    }
   ],
   "source": [
    "hist(a)"
   ]
  },
  {
   "cell_type": "code",
   "execution_count": 34,
   "metadata": {},
   "outputs": [
    {
     "data": {
      "text/html": [
       "<strong>90%:</strong> 1.32221929473392"
      ],
      "text/latex": [
       "\\textbf{90\\textbackslash{}\\%:} 1.32221929473392"
      ],
      "text/markdown": [
       "**90%:** 1.32221929473392"
      ],
      "text/plain": [
       "     90% \n",
       "1.322219 "
      ]
     },
     "metadata": {},
     "output_type": "display_data"
    }
   ],
   "source": [
    "quantile(a, 0.9)"
   ]
  },
  {
   "cell_type": "code",
   "execution_count": 35,
   "metadata": {},
   "outputs": [
    {
     "data": {
      "image/png": "[encoded data removed]",
      "text/plain": [
       "Plot with title \"Normal Q-Q Plot\""
      ]
     },
     "metadata": {},
     "output_type": "display_data"
    }
   ],
   "source": [
    "qqnorm(a)"
   ]
  },
  {
   "cell_type": "code",
   "execution_count": 36,
   "metadata": {},
   "outputs": [
    {
     "ename": "ERROR",
     "evalue": "Error in int_abline(a = a, b = b, h = h, v = v, untf = untf, ...): plot.new has not been called yet\n",
     "output_type": "error",
     "traceback": [
      "Error in int_abline(a = a, b = b, h = h, v = v, untf = untf, ...): plot.new has not been called yet\nTraceback:\n",
      "1. qqline(a)",
      "2. abline(int, slope, ...)",
      "3. int_abline(a = a, b = b, h = h, v = v, untf = untf, ...)"
     ]
    }
   ],
   "source": [
    "qqline(a)"
   ]
  },
  {
   "cell_type": "code",
   "execution_count": null,
   "metadata": {},
   "outputs": [],
   "source": []
  }
 ],
 "metadata": {
  "kernelspec": {
   "display_name": "R",
   "language": "R",
   "name": "ir"
  },
  "language_info": {
   "codemirror_mode": "r",
   "file_extension": ".r",
   "mimetype": "text/x-r-source",
   "name": "R",
   "pygments_lexer": "r",
   "version": "3.5.1"
  }
 },
 "nbformat": 4,
 "nbformat_minor": 2
}
