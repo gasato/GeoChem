{
 "cells": [
  {
   "cell_type": "markdown",
   "id": "706213fa",
   "metadata": {},
   "source": [
    "# GeoChem Exploration Data Analysis "
   ]
  },
  {
   "cell_type": "code",
   "execution_count": 28,
   "id": "ee8a3b3d",
   "metadata": {},
   "outputs": [],
   "source": [
    "# Python modules\n",
    "import csv\n",
    "import numpy as np\n",
    "import matplotlib.pyplot as plt\n",
    "import pandas as pd\n",
    "import scipy.stats as stats\n",
    "\n",
    "# IPython Widgets\n",
    "from ipyfilechooser import FileChooser"
   ]
  },
  {
   "cell_type": "markdown",
   "id": "f17a6864",
   "metadata": {},
   "source": [
    "## CSV Format\n",
    "\n",
    "Delimiter must be ',', quote character must be \"\" and first column must containt field names"
   ]
  },
  {
   "cell_type": "code",
   "execution_count": 19,
   "id": "25fc4fe9",
   "metadata": {},
   "outputs": [
    {
     "data": {
      "application/vnd.jupyter.widget-view+json": {
       "model_id": "c5d6b4506a4445c5bb4c206c9f5e7546",
       "version_major": 2,
       "version_minor": 0
      },
      "text/plain": [
       "FileChooser(path='D:\\Users\\gasato\\anacondaProjects\\GeoChem', filename='RNGGeochem.csv', title='<b>Select csv g…"
      ]
     },
     "metadata": {},
     "output_type": "display_data"
    }
   ],
   "source": [
    "fc = FileChooser('.')\n",
    "fc.title ='<b>Select csv geoChem table</b>'\n",
    "fc.filter_pattern='*.csv'\n",
    "fc.reset(path='.', filename= \"RNGGeochem.csv\")\n",
    "\n",
    "display(fc)\n",
    "\n"
   ]
  },
  {
   "cell_type": "code",
   "execution_count": 20,
   "id": "6645fb0e",
   "metadata": {},
   "outputs": [
    {
     "name": "stdout",
     "output_type": "stream",
     "text": [
      "RNGGeochem.csv\n"
     ]
    }
   ],
   "source": [
    "print(fc.selected_filename)"
   ]
  },
  {
   "cell_type": "code",
   "execution_count": 35,
   "id": "413d1590",
   "metadata": {},
   "outputs": [
    {
     "name": "stderr",
     "output_type": "stream",
     "text": [
      "IOPub data rate exceeded.\n",
      "The notebook server will temporarily stop sending output\n",
      "to the client in order to avoid crashing it.\n",
      "To change this limit, set the config variable\n",
      "`--NotebookApp.iopub_data_rate_limit`.\n",
      "\n",
      "Current values:\n",
      "NotebookApp.iopub_data_rate_limit=1000000.0 (bytes/sec)\n",
      "NotebookApp.rate_limit_window=3.0 (secs)\n",
      "\n"
     ]
    }
   ],
   "source": [
    "with open(fc.selected_filename) as csvfile:\n",
    "    csvReader = csv.DictReader(csvfile, delimiter=',', quotechar='\"')\n",
    "    for row in csvReader:\n",
    "        print(', '.join(row))\n",
    "        #print(row) #It not be used in order to avoid program crash"
   ]
  },
  {
   "cell_type": "code",
   "execution_count": 37,
   "id": "c8f39aa5",
   "metadata": {},
   "outputs": [
    {
     "name": "stdout",
     "output_type": "stream",
     "text": [
      "['OBJECTID', 'NUMERO_MUE', 'TIPO_MUEST', 'SYMBOL', 'Ag_ppm', 'Al_porcien', 'As_ppm', 'Au_ppb', 'Ba_ppm', 'Be_ppm', 'Bi_ppm', 'Br_ppm', 'Ca_porcien', 'Cd_ppm', 'Ce_ppm', 'Co_ppm', 'Cr_ppm', 'Cs_ppm', 'Cu_ppm', 'Eu_ppm', 'Fe_porcien', 'Ga_ppm', 'Ge_ppm', 'Hf_ppm', 'Hg_ppm', 'In_ppm', 'Ir_ppb', 'K_porcient', 'La_ppm', 'Li_ppm', 'Lu_ppm', 'Mg_porcien', 'Mn_ppm', 'Mo_ppm', 'Nb_ppm', 'Nd_ppm', 'Ni_ppm', 'P_ppm', 'Pb_ppm', 'Rb_ppm', 'S_porcient', 'Sb_ppm', 'Sc_ppm', 'Se_ppm', 'Sm_ppm', 'Sn_ppm', 'Ta_ppm', 'Tb_ppm', 'Te_ppm', 'Th_ppm', 'Ti_porcien', 'TI_ppm', 'U_ppm', 'V_ppm', 'W_ppm', 'Y_ppm', 'Yb_ppm', 'Zn_ppm', 'Zr_ppm', 'FRACCION', 'Na_porcien', 'REFERENCIA', 'METODO', 'Sr_ppm', 'latDD', 'lonDD', 'rng unidad', 'rng unid_1']\n"
     ]
    }
   ],
   "source": [
    "print(csvReader.fieldnames)"
   ]
  },
  {
   "cell_type": "code",
   "execution_count": null,
   "id": "65868ce4",
   "metadata": {},
   "outputs": [],
   "source": [
    "# Plot data\n",
    "\n",
    "fix, ax = plt.subplots(figsize=(16,8))\n",
    "\n"
   ]
  }
 ],
 "metadata": {
  "kernelspec": {
   "display_name": "Python 3 (ipykernel)",
   "language": "python",
   "name": "python3"
  },
  "language_info": {
   "codemirror_mode": {
    "name": "ipython",
    "version": 3
   },
   "file_extension": ".py",
   "mimetype": "text/x-python",
   "name": "python",
   "nbconvert_exporter": "python",
   "pygments_lexer": "ipython3",
   "version": "3.9.12"
  }
 },
 "nbformat": 4,
 "nbformat_minor": 5
}
