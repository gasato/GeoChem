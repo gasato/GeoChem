{
 "cells": [
  {
   "cell_type": "code",
   "execution_count": null,
   "metadata": {},
   "outputs": [],
   "source": [
    "library(gdata)\n",
    "\n",
    "setwd(\"D:/taller/rioNegro/proyectoRN/analisis\")\n",
    "getwd()\n",
    "\n",
    "mydata = read.csv(\"GGRN_area1.csv\", header=TRUE, sep = ',')"
   ]
  }
 ],
 "metadata": {
  "kernelspec": {
   "display_name": "R",
   "language": "R",
   "name": "ir"
  },
  "language_info": {
   "codemirror_mode": "r",
   "file_extension": ".r",
   "mimetype": "text/x-r-source",
   "name": "R",
   "pygments_lexer": "r",
   "version": "3.5.1"
  }
 },
 "nbformat": 4,
 "nbformat_minor": 2
}
