{
 "cells": [
  {
   "cell_type": "markdown",
   "metadata": {},
   "source": [
    "<h1>Scatterplots</h1>"
   ]
  },
  {
   "cell_type": "code",
   "execution_count": null,
   "metadata": {},
   "outputs": [],
   "source": [
    "#Read data from pirquitas .csv\n",
    "\n",
    "library(gdata)\n",
    "\n",
    "setwd(\"D:/taller/pirquitas/Geoquimica-revisada\")\n",
    "getwd()\n",
    "\n",
    "mydata = read.csv(\"geoquimica.csv\", header=TRUE, sep = ',')\n",
    "\n",
    "Au = mydata$Au\n",
    "Ag = mydata$Ag\n",
    "Cu = mydata$Cu\n",
    "As = mydata$As\n",
    "Pb = mydata$Pb\n",
    "Zn = mydata$Zn\n",
    "Sb = mydata$Sb\n",
    "Sn = mydata$Sn\n",
    "Li = mydata$Li\n",
    "\n",
    "dim(mydata)\n",
    "\n",
    "mydata.group1 <- cbind( Au, Ag, Cu, As, Pb, Zn, Sb, Sn, Li)\n",
    "\n",
    "pairs(mydata.group1, labels=c( \"Au\", \"Ag\", \"Cu\", \"As\", \"Pb\", \"Zn\", \"Sb\", \"Sn\", \"Li\"))"
   ]
  },
  {
   "cell_type": "code",
   "execution_count": null,
   "metadata": {},
   "outputs": [],
   "source": [
    "plot(Cu, As)\n",
    "\n",
    "reg = lm(As  ~ Cu )\n",
    "abline(reg)\n",
    "summary(reg)\n",
    "cor.test(As, Cu)"
   ]
  }
 ],
 "metadata": {
  "kernelspec": {
   "display_name": "R",
   "language": "R",
   "name": "ir"
  },
  "language_info": {
   "codemirror_mode": "r",
   "file_extension": ".r",
   "mimetype": "text/x-r-source",
   "name": "R",
   "pygments_lexer": "r",
   "version": "3.5.1"
  }
 },
 "nbformat": 4,
 "nbformat_minor": 2
}
