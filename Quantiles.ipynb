{
 "cells": [
  {
   "cell_type": "code",
   "execution_count": 1,
   "metadata": {},
   "outputs": [
    {
     "name": "stderr",
     "output_type": "stream",
     "text": [
      "gdata: Unable to locate valid perl interpreter\n",
      "gdata: \n",
      "gdata: read.xls() will be unable to read Excel XLS and XLSX files\n",
      "gdata: unless the 'perl=' argument is used to specify the location of a\n",
      "gdata: valid perl intrpreter.\n",
      "gdata: \n",
      "gdata: (To avoid display of this message in the future, please ensure\n",
      "gdata: perl is installed and available on the executable search path.)\n",
      "gdata: Unable to load perl libaries needed by read.xls()\n",
      "gdata: to support 'XLX' (Excel 97-2004) files.\n",
      "\n",
      "gdata: Unable to load perl libaries needed by read.xls()\n",
      "gdata: to support 'XLSX' (Excel 2007+) files.\n",
      "\n",
      "gdata: Run the function 'installXLSXsupport()'\n",
      "gdata: to automatically download and install the perl\n",
      "gdata: libaries needed to support Excel XLS and XLSX formats.\n",
      "\n",
      "Attaching package: 'gdata'\n",
      "\n",
      "The following object is masked from 'package:stats':\n",
      "\n",
      "    nobs\n",
      "\n",
      "The following object is masked from 'package:utils':\n",
      "\n",
      "    object.size\n",
      "\n",
      "The following object is masked from 'package:base':\n",
      "\n",
      "    startsWith\n",
      "\n"
     ]
    },
    {
     "data": {
      "text/html": [
       "'D:/Users/gasato/anacondaProjects/GeoChem'"
      ],
      "text/latex": [
       "'D:/Users/gasato/anacondaProjects/GeoChem'"
      ],
      "text/markdown": [
       "'D:/Users/gasato/anacondaProjects/GeoChem'"
      ],
      "text/plain": [
       "[1] \"D:/Users/gasato/anacondaProjects/GeoChem\""
      ]
     },
     "metadata": {},
     "output_type": "display_data"
    }
   ],
   "source": [
    "library(gdata)\n",
    "\n",
    "setwd(\"D:/taller/pirquitas/Geoquimica-revisada\")\n",
    "setwd(\"D:/Users/gasato/anacondaProjects/GeoChem\")\n",
    "getwd()\n",
    "\n",
    "#mydata = read.csv(\"geoquimica.csv\", header=TRUE, sep = ',')\n",
    "mydata = read.csv(\"RNGGeochem.csv\", header=TRUE, sep = ',')"
   ]
  },
  {
   "cell_type": "code",
   "execution_count": 2,
   "metadata": {},
   "outputs": [
    {
     "name": "stderr",
     "output_type": "stream",
     "text": [
      "Warning message in eval(expr, envir, enclos):\n",
      "\"Se han producido NaNs\"Warning message in bplt(at[i], wid = width[i], stats = z$stats[, i], out = z$out[z$group == :\n",
      "\"Outlier (-Inf) in boxplot 1 is not drawn\""
     ]
    },
    {
     "ename": "ERROR",
     "evalue": "Error in density.default(xx, width = iqd): 'x' contains missing values\n",
     "output_type": "error",
     "traceback": [
      "Error in density.default(xx, width = iqd): 'x' contains missing values\nTraceback:\n",
      "1. eda.shape(xx, title, labl, 50)",
      "2. plot(density(xx, width = iqd), main = \"Density Plot\", xlab = labl, \n .     ylab = \"Densidad\", type = \"o\")   # at line 19 of file <text>",
      "3. density(xx, width = iqd)",
      "4. density.default(xx, width = iqd)",
      "5. stop(\"'x' contains missing values\")"
     ]
    }
   ],
   "source": [
    "\n",
    "\n",
    "Au = mydata$Au\n",
    "Ag = mydata$Ag\n",
    "Cu = mydata$Cu\n",
    "As = mydata$As\n",
    "Pb = mydata$Pb\n",
    "Zn = mydata$Zn\n",
    "Sb = mydata$Sb\n",
    "Sn = mydata$Sn\n",
    "Li = mydata$Li\n",
    "\n",
    "eda.shape <- function(xx, title, labl, nc) {\n",
    "  \n",
    "  hist(xx, main = 'Histograma', xlab = labl, nclass = nc)\n",
    "  box()\n",
    "  boxplot(xx, main='Box Plot', ylab = labl)\n",
    "  iqd <- summary(xx)[5] - summary(xx)[2]\n",
    "  plot(density(xx, width=iqd), main ='Density Plot', xlab = labl, ylab = 'Densidad', type = 'o')\n",
    "  qqnorm(xx, ylab = labl)\n",
    "  qqline(xx)\n",
    "}\n",
    "\n",
    "par(mfrow=c(2,2))\n",
    "xx <- log10(Au)\n",
    "title <- 'Pirquitas Au'\n",
    "labl <- 'Log 10 (Au ppb)'\n",
    "eda.shape(xx,title, labl, 50)\n",
    "summary(log10(Au))\n",
    "quantile(log10(Au), 0.9)\n",
    "\n",
    "par(mfrow=c(2,2))\n",
    "xx <- log10(Ag)\n",
    "title <- 'Pirquitas Ag'\n",
    "labl <- 'Log 10 (Ag ppm)'\n",
    "eda.shape(xx,title, labl, 50)\n",
    "summary(log10(Ag))\n",
    "quantile(log10(Ag), 0.9)\n",
    "\n",
    "par(mfrow=c(2,2))\n",
    "xx <- log10(Cu)\n",
    "title <- 'Pirquitas Cu'\n",
    "labl <- 'Log 10 (Cu ppm)'\n",
    "eda.shape(xx,title, labl, 50)\n",
    "summary(log10(Cu))\n",
    "quantile(log10(Cu), 0.9)\n",
    "\n",
    "par(mfrow=c(2,2))\n",
    "xx <- log10(As)\n",
    "title <- 'Pirquitas As'\n",
    "labl <- 'Log 10 (As ppm)'\n",
    "eda.shape(xx,title, labl, 50)\n",
    "summary(log10(As))\n",
    "quantile(log10(As), 0.9)\n",
    "\n",
    "par(mfrow=c(2,2))\n",
    "xx <- log10(Pb)\n",
    "title <- 'Pirquitas Pb'\n",
    "labl <- 'Log 10 (Pb ppm)'\n",
    "eda.shape(xx,title, labl, 50)\n",
    "summary(log10(Pb))\n",
    "quantile(log10(Pb), 0.9)\n",
    "         \n",
    "par(mfrow=c(2,2))\n",
    "xx <- log10(Z)\n",
    "title <- 'Pirquitas Zn'\n",
    "labl <- 'Log 10 (Zn ppm)'\n",
    "eda.shape(xx,title, labl, 50)\n",
    "summary(log10(Z))\n",
    "quantile(log10(Z), 0.9)\n",
    "\n",
    "par(mfrow=c(2,2))\n",
    "xx <- log10(Sb)\n",
    "title <- 'Pirquitas Sb'\n",
    "labl <- 'Log 10 (Sb ppm)'\n",
    "eda.shape(xx,title, labl, 50)\n",
    "summary(log10(Sb))\n",
    "quantile(log10(Sb), 0.9)\n",
    "\n",
    "par(mfrow=c(2,2))\n",
    "xx <- log10(Sn)\n",
    "title <- 'Pirquitas Sn'\n",
    "labl <- 'Log 10 (Sn ppm)'\n",
    "eda.shape(xx,title, labl, 50)\n",
    "summary(log10(Sn))\n",
    "quantile(log10(Sn), 0.9)\n",
    "\n",
    "par(mfrow=c(1,1))\n",
    "qqnorm(log10(Au))\n",
    "qqline(log10(Au))\n",
    "\n",
    "par(mfrow=c(2,2))\n",
    "xx <- log10(Li)\n",
    "title <- 'Pirquitas Li'\n",
    "labl <- 'Log 10 (Li ppm)'\n",
    "eda.shape(xx,title, labl, 50)\n",
    "summary(log10(Li))\n",
    "quantile(log10(Li), 0.9)"
   ]
  },
  {
   "cell_type": "code",
   "execution_count": null,
   "metadata": {},
   "outputs": [],
   "source": []
  },
  {
   "cell_type": "code",
   "execution_count": null,
   "metadata": {},
   "outputs": [],
   "source": []
  },
  {
   "cell_type": "code",
   "execution_count": null,
   "metadata": {},
   "outputs": [],
   "source": []
  }
 ],
 "metadata": {
  "kernelspec": {
   "display_name": "R",
   "language": "R",
   "name": "ir"
  },
  "language_info": {
   "codemirror_mode": "r",
   "file_extension": ".r",
   "mimetype": "text/x-r-source",
   "name": "R",
   "pygments_lexer": "r",
   "version": "3.6.1"
  }
 },
 "nbformat": 4,
 "nbformat_minor": 2
}
